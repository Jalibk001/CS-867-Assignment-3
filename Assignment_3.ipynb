{
  "nbformat": 4,
  "nbformat_minor": 0,
  "metadata": {
    "colab": {
      "name": "Assignment 3.ipynb",
      "provenance": [],
      "collapsed_sections": [],
      "toc_visible": true
    },
    "kernelspec": {
      "name": "python3",
      "display_name": "Python 3"
    },
    "accelerator": "GPU"
  },
  "cells": [
    {
      "cell_type": "markdown",
      "metadata": {
        "id": "iw40WhbfK9VH"
      },
      "source": [
        "#Import Libraries"
      ]
    },
    {
      "cell_type": "code",
      "metadata": {
        "id": "SpDjJZ1HJNfD"
      },
      "source": [
        "import zipfile\r\n",
        "import glob\r\n",
        "import os.path\r\n",
        "from os import path\r\n",
        "import cv2\r\n",
        "from keras.applications.vgg16 import VGG16\r\n",
        "from keras.models import Model\r\n",
        "from keras.layers import Dense\r\n",
        "from keras.layers import Flatten\r\n",
        "import numpy as np\r\n",
        "from imutils import paths\r\n",
        "from sklearn.preprocessing import LabelBinarizer\r\n",
        "from tqdm import tqdm\r\n",
        "import tensorflow as tf\r\n",
        "from keras.preprocessing.image import ImageDataGenerator\r\n",
        "from sklearn.metrics import classification_report, confusion_matrix"
      ],
      "execution_count": 1,
      "outputs": []
    },
    {
      "cell_type": "markdown",
      "metadata": {
        "id": "-rCnZebcKcxj"
      },
      "source": [
        "#Download Dataset if not unavailable"
      ]
    },
    {
      "cell_type": "code",
      "metadata": {
        "id": "Kx5QLvn8KfOv",
        "colab": {
          "base_uri": "https://localhost:8080/"
        },
        "outputId": "82c934ec-317a-4162-c5cd-cfe77aeacada"
      },
      "source": [
        "if not path.exists(\"intel-image-classification.zip\"):\r\n",
        "  !gdown https://drive.google.com/uc?id=1a2zXwkvQaIJLDzUud2WCRNdpQChL0w0K\r\n",
        "\r\n",
        "if not path.exists(\"dataset\"):\r\n",
        "  with zipfile.ZipFile('/content/intel-image-classification.zip', 'r') as zip_ref:\r\n",
        "    zip_ref.extractall('dataset/')"
      ],
      "execution_count": 2,
      "outputs": [
        {
          "output_type": "stream",
          "text": [
            "Downloading...\n",
            "From: https://drive.google.com/uc?id=1a2zXwkvQaIJLDzUud2WCRNdpQChL0w0K\n",
            "To: /content/intel-image-classification.zip\n",
            "362MB [00:07, 51.1MB/s]\n"
          ],
          "name": "stdout"
        }
      ]
    },
    {
      "cell_type": "markdown",
      "metadata": {
        "id": "nJ28ScouLHyz"
      },
      "source": [
        "#Load Model "
      ]
    },
    {
      "cell_type": "code",
      "metadata": {
        "colab": {
          "base_uri": "https://localhost:8080/"
        },
        "id": "lVHVyvNLLKTw",
        "outputId": "7982e028-978f-491b-b116-b4c989184d9a"
      },
      "source": [
        "model = VGG16(include_top=False, input_shape=(150, 150, 3))\r\n",
        "flat1 = Flatten()(model.layers[-1].output)\r\n",
        "class1 = Dense(1024, activation='relu')(flat1)\r\n",
        "output = Dense(6, activation='softmax')(class1)\r\n",
        "model = Model(inputs=model.inputs, outputs=output)"
      ],
      "execution_count": 3,
      "outputs": [
        {
          "output_type": "stream",
          "text": [
            "Downloading data from https://storage.googleapis.com/tensorflow/keras-applications/vgg16/vgg16_weights_tf_dim_ordering_tf_kernels_notop.h5\n",
            "58892288/58889256 [==============================] - 1s 0us/step\n"
          ],
          "name": "stdout"
        }
      ]
    },
    {
      "cell_type": "code",
      "metadata": {
        "colab": {
          "base_uri": "https://localhost:8080/"
        },
        "id": "v_OwPsmqNgxH",
        "outputId": "4ddd22b8-f848-4306-e5c2-f9f80e865d78"
      },
      "source": [
        "model.summary()"
      ],
      "execution_count": 4,
      "outputs": [
        {
          "output_type": "stream",
          "text": [
            "Model: \"model\"\n",
            "_________________________________________________________________\n",
            "Layer (type)                 Output Shape              Param #   \n",
            "=================================================================\n",
            "input_1 (InputLayer)         [(None, 150, 150, 3)]     0         \n",
            "_________________________________________________________________\n",
            "block1_conv1 (Conv2D)        (None, 150, 150, 64)      1792      \n",
            "_________________________________________________________________\n",
            "block1_conv2 (Conv2D)        (None, 150, 150, 64)      36928     \n",
            "_________________________________________________________________\n",
            "block1_pool (MaxPooling2D)   (None, 75, 75, 64)        0         \n",
            "_________________________________________________________________\n",
            "block2_conv1 (Conv2D)        (None, 75, 75, 128)       73856     \n",
            "_________________________________________________________________\n",
            "block2_conv2 (Conv2D)        (None, 75, 75, 128)       147584    \n",
            "_________________________________________________________________\n",
            "block2_pool (MaxPooling2D)   (None, 37, 37, 128)       0         \n",
            "_________________________________________________________________\n",
            "block3_conv1 (Conv2D)        (None, 37, 37, 256)       295168    \n",
            "_________________________________________________________________\n",
            "block3_conv2 (Conv2D)        (None, 37, 37, 256)       590080    \n",
            "_________________________________________________________________\n",
            "block3_conv3 (Conv2D)        (None, 37, 37, 256)       590080    \n",
            "_________________________________________________________________\n",
            "block3_pool (MaxPooling2D)   (None, 18, 18, 256)       0         \n",
            "_________________________________________________________________\n",
            "block4_conv1 (Conv2D)        (None, 18, 18, 512)       1180160   \n",
            "_________________________________________________________________\n",
            "block4_conv2 (Conv2D)        (None, 18, 18, 512)       2359808   \n",
            "_________________________________________________________________\n",
            "block4_conv3 (Conv2D)        (None, 18, 18, 512)       2359808   \n",
            "_________________________________________________________________\n",
            "block4_pool (MaxPooling2D)   (None, 9, 9, 512)         0         \n",
            "_________________________________________________________________\n",
            "block5_conv1 (Conv2D)        (None, 9, 9, 512)         2359808   \n",
            "_________________________________________________________________\n",
            "block5_conv2 (Conv2D)        (None, 9, 9, 512)         2359808   \n",
            "_________________________________________________________________\n",
            "block5_conv3 (Conv2D)        (None, 9, 9, 512)         2359808   \n",
            "_________________________________________________________________\n",
            "block5_pool (MaxPooling2D)   (None, 4, 4, 512)         0         \n",
            "_________________________________________________________________\n",
            "flatten (Flatten)            (None, 8192)              0         \n",
            "_________________________________________________________________\n",
            "dense (Dense)                (None, 1024)              8389632   \n",
            "_________________________________________________________________\n",
            "dense_1 (Dense)              (None, 6)                 6150      \n",
            "=================================================================\n",
            "Total params: 23,110,470\n",
            "Trainable params: 23,110,470\n",
            "Non-trainable params: 0\n",
            "_________________________________________________________________\n"
          ],
          "name": "stdout"
        }
      ]
    },
    {
      "cell_type": "markdown",
      "metadata": {
        "id": "aokzjWyjN0en"
      },
      "source": [
        "##Freeze model layers for transfer learning"
      ]
    },
    {
      "cell_type": "code",
      "metadata": {
        "id": "TUWYRWbbN5yJ"
      },
      "source": [
        "for i, layer in enumerate(model.layers):\r\n",
        "   layer.trainable = False\r\n",
        "   if i==15:\r\n",
        "     break"
      ],
      "execution_count": 5,
      "outputs": []
    },
    {
      "cell_type": "markdown",
      "metadata": {
        "id": "d_X7Svu8QlA0"
      },
      "source": [
        "##Model summary after freezing the initial layers"
      ]
    },
    {
      "cell_type": "code",
      "metadata": {
        "colab": {
          "base_uri": "https://localhost:8080/"
        },
        "id": "jLocfnz5QpoW",
        "outputId": "ccbe804f-facb-4427-9484-0f4bfd25a3dd"
      },
      "source": [
        "model.summary()"
      ],
      "execution_count": 6,
      "outputs": [
        {
          "output_type": "stream",
          "text": [
            "Model: \"model\"\n",
            "_________________________________________________________________\n",
            "Layer (type)                 Output Shape              Param #   \n",
            "=================================================================\n",
            "input_1 (InputLayer)         [(None, 150, 150, 3)]     0         \n",
            "_________________________________________________________________\n",
            "block1_conv1 (Conv2D)        (None, 150, 150, 64)      1792      \n",
            "_________________________________________________________________\n",
            "block1_conv2 (Conv2D)        (None, 150, 150, 64)      36928     \n",
            "_________________________________________________________________\n",
            "block1_pool (MaxPooling2D)   (None, 75, 75, 64)        0         \n",
            "_________________________________________________________________\n",
            "block2_conv1 (Conv2D)        (None, 75, 75, 128)       73856     \n",
            "_________________________________________________________________\n",
            "block2_conv2 (Conv2D)        (None, 75, 75, 128)       147584    \n",
            "_________________________________________________________________\n",
            "block2_pool (MaxPooling2D)   (None, 37, 37, 128)       0         \n",
            "_________________________________________________________________\n",
            "block3_conv1 (Conv2D)        (None, 37, 37, 256)       295168    \n",
            "_________________________________________________________________\n",
            "block3_conv2 (Conv2D)        (None, 37, 37, 256)       590080    \n",
            "_________________________________________________________________\n",
            "block3_conv3 (Conv2D)        (None, 37, 37, 256)       590080    \n",
            "_________________________________________________________________\n",
            "block3_pool (MaxPooling2D)   (None, 18, 18, 256)       0         \n",
            "_________________________________________________________________\n",
            "block4_conv1 (Conv2D)        (None, 18, 18, 512)       1180160   \n",
            "_________________________________________________________________\n",
            "block4_conv2 (Conv2D)        (None, 18, 18, 512)       2359808   \n",
            "_________________________________________________________________\n",
            "block4_conv3 (Conv2D)        (None, 18, 18, 512)       2359808   \n",
            "_________________________________________________________________\n",
            "block4_pool (MaxPooling2D)   (None, 9, 9, 512)         0         \n",
            "_________________________________________________________________\n",
            "block5_conv1 (Conv2D)        (None, 9, 9, 512)         2359808   \n",
            "_________________________________________________________________\n",
            "block5_conv2 (Conv2D)        (None, 9, 9, 512)         2359808   \n",
            "_________________________________________________________________\n",
            "block5_conv3 (Conv2D)        (None, 9, 9, 512)         2359808   \n",
            "_________________________________________________________________\n",
            "block5_pool (MaxPooling2D)   (None, 4, 4, 512)         0         \n",
            "_________________________________________________________________\n",
            "flatten (Flatten)            (None, 8192)              0         \n",
            "_________________________________________________________________\n",
            "dense (Dense)                (None, 1024)              8389632   \n",
            "_________________________________________________________________\n",
            "dense_1 (Dense)              (None, 6)                 6150      \n",
            "=================================================================\n",
            "Total params: 23,110,470\n",
            "Trainable params: 13,115,398\n",
            "Non-trainable params: 9,995,072\n",
            "_________________________________________________________________\n"
          ],
          "name": "stdout"
        }
      ]
    },
    {
      "cell_type": "markdown",
      "metadata": {
        "id": "g0Zls2otLDWr"
      },
      "source": [
        "#Load Dataset"
      ]
    },
    {
      "cell_type": "markdown",
      "metadata": {
        "id": "SYrXLNc_VARs"
      },
      "source": [
        "##Using Data generator because of large dataset"
      ]
    },
    {
      "cell_type": "code",
      "metadata": {
        "id": "qfwyR0ZGVG3c"
      },
      "source": [
        "train_datagen = ImageDataGenerator(rescale=1./255, shear_range=0.2, zoom_range=0.2, horizontal_flip=True)\r\n",
        "\r\n",
        "test_datagen = ImageDataGenerator(rescale=1./255)\r\n",
        "\r\n",
        "pred_datagen = ImageDataGenerator(rescale=1./255)"
      ],
      "execution_count": 7,
      "outputs": []
    },
    {
      "cell_type": "code",
      "metadata": {
        "id": "YFhiBmNPtHvC"
      },
      "source": [
        "train_data_path = \"./dataset/seg_train/\"\r\n",
        "test_data_path = \"./dataset/seg_test/\"\r\n",
        "pred_data_path = \"./dataset/seg_pred/\""
      ],
      "execution_count": 8,
      "outputs": []
    },
    {
      "cell_type": "code",
      "metadata": {
        "colab": {
          "base_uri": "https://localhost:8080/"
        },
        "id": "z65CSiLcV3_k",
        "outputId": "109fe7a0-7261-4cda-ab40-5201b0ebcb12"
      },
      "source": [
        "train_generator = train_datagen.flow_from_directory(\r\n",
        "        train_data_path,\r\n",
        "        target_size=(150, 150),\r\n",
        "        batch_size=32,\r\n",
        "        shuffle=True)\r\n",
        "\r\n",
        "test_generator = test_datagen.flow_from_directory(\r\n",
        "        test_data_path,\r\n",
        "        target_size=(150, 150),\r\n",
        "        batch_size=32,\r\n",
        "        shuffle=False)\r\n",
        "\r\n",
        "pred_generator = pred_datagen.flow_from_directory(\r\n",
        "        pred_data_path,\r\n",
        "        target_size=(150, 150),\r\n",
        "        batch_size=32,\r\n",
        "        shuffle=False)"
      ],
      "execution_count": 9,
      "outputs": [
        {
          "output_type": "stream",
          "text": [
            "Found 14034 images belonging to 6 classes.\n",
            "Found 3000 images belonging to 6 classes.\n",
            "Found 7301 images belonging to 6 classes.\n"
          ],
          "name": "stdout"
        }
      ]
    },
    {
      "cell_type": "markdown",
      "metadata": {
        "id": "QpcAomKoLst4"
      },
      "source": [
        "#Compile the model"
      ]
    },
    {
      "cell_type": "code",
      "metadata": {
        "id": "lLeCaLrCLysh"
      },
      "source": [
        "from keras.optimizers import SGD\r\n",
        "sgd = SGD(lr=0.001, decay=1e-7, momentum=.9)\r\n",
        "model.compile(loss='categorical_crossentropy', optimizer=sgd, metrics=['accuracy'])"
      ],
      "execution_count": 10,
      "outputs": []
    },
    {
      "cell_type": "markdown",
      "metadata": {
        "id": "-sh2bcLVWcPt"
      },
      "source": [
        "#Train the Model"
      ]
    },
    {
      "cell_type": "code",
      "metadata": {
        "colab": {
          "base_uri": "https://localhost:8080/"
        },
        "id": "Mbgk3SouMZ7B",
        "outputId": "7b6c62d0-5283-42cc-a832-8a08b11cc7c4"
      },
      "source": [
        "H = model.fit(train_generator, batch_size=128, epochs=20, validation_data=test_generator)"
      ],
      "execution_count": 11,
      "outputs": [
        {
          "output_type": "stream",
          "text": [
            "Epoch 1/20\n",
            "439/439 [==============================] - 131s 280ms/step - loss: 0.7089 - accuracy: 0.7297 - val_loss: 0.3068 - val_accuracy: 0.8913\n",
            "Epoch 2/20\n",
            "439/439 [==============================] - 120s 273ms/step - loss: 0.3156 - accuracy: 0.8863 - val_loss: 0.2908 - val_accuracy: 0.8900\n",
            "Epoch 3/20\n",
            "439/439 [==============================] - 119s 271ms/step - loss: 0.2702 - accuracy: 0.9041 - val_loss: 0.2975 - val_accuracy: 0.8943\n",
            "Epoch 4/20\n",
            "439/439 [==============================] - 119s 272ms/step - loss: 0.2367 - accuracy: 0.9135 - val_loss: 0.2605 - val_accuracy: 0.9117\n",
            "Epoch 5/20\n",
            "439/439 [==============================] - 119s 271ms/step - loss: 0.2279 - accuracy: 0.9216 - val_loss: 0.2540 - val_accuracy: 0.9110\n",
            "Epoch 6/20\n",
            "439/439 [==============================] - 119s 272ms/step - loss: 0.1927 - accuracy: 0.9294 - val_loss: 0.2439 - val_accuracy: 0.9113\n",
            "Epoch 7/20\n",
            "439/439 [==============================] - 120s 273ms/step - loss: 0.1835 - accuracy: 0.9361 - val_loss: 0.2672 - val_accuracy: 0.9020\n",
            "Epoch 8/20\n",
            "439/439 [==============================] - 120s 272ms/step - loss: 0.1596 - accuracy: 0.9441 - val_loss: 0.2783 - val_accuracy: 0.9017\n",
            "Epoch 9/20\n",
            "439/439 [==============================] - 119s 271ms/step - loss: 0.1481 - accuracy: 0.9454 - val_loss: 0.2628 - val_accuracy: 0.9107\n",
            "Epoch 10/20\n",
            "439/439 [==============================] - 119s 272ms/step - loss: 0.1303 - accuracy: 0.9532 - val_loss: 0.2439 - val_accuracy: 0.9177\n",
            "Epoch 11/20\n",
            "439/439 [==============================] - 119s 271ms/step - loss: 0.1257 - accuracy: 0.9557 - val_loss: 0.2737 - val_accuracy: 0.9060\n",
            "Epoch 12/20\n",
            "439/439 [==============================] - 120s 273ms/step - loss: 0.1140 - accuracy: 0.9616 - val_loss: 0.2473 - val_accuracy: 0.9147\n",
            "Epoch 13/20\n",
            "439/439 [==============================] - 119s 272ms/step - loss: 0.1027 - accuracy: 0.9656 - val_loss: 0.2876 - val_accuracy: 0.9023\n",
            "Epoch 14/20\n",
            "439/439 [==============================] - 120s 273ms/step - loss: 0.0909 - accuracy: 0.9678 - val_loss: 0.2730 - val_accuracy: 0.9037\n",
            "Epoch 15/20\n",
            "439/439 [==============================] - 120s 274ms/step - loss: 0.0898 - accuracy: 0.9707 - val_loss: 0.2660 - val_accuracy: 0.9083\n",
            "Epoch 16/20\n",
            "439/439 [==============================] - 120s 274ms/step - loss: 0.0680 - accuracy: 0.9771 - val_loss: 0.2720 - val_accuracy: 0.9140\n",
            "Epoch 17/20\n",
            "439/439 [==============================] - 120s 274ms/step - loss: 0.0644 - accuracy: 0.9781 - val_loss: 0.2722 - val_accuracy: 0.9157\n",
            "Epoch 18/20\n",
            "439/439 [==============================] - 121s 275ms/step - loss: 0.0555 - accuracy: 0.9806 - val_loss: 0.2838 - val_accuracy: 0.9140\n",
            "Epoch 19/20\n",
            "439/439 [==============================] - 121s 274ms/step - loss: 0.0536 - accuracy: 0.9811 - val_loss: 0.2804 - val_accuracy: 0.9157\n",
            "Epoch 20/20\n",
            "439/439 [==============================] - 120s 273ms/step - loss: 0.0483 - accuracy: 0.9848 - val_loss: 0.2870 - val_accuracy: 0.9163\n"
          ],
          "name": "stdout"
        }
      ]
    },
    {
      "cell_type": "markdown",
      "metadata": {
        "id": "NLSOxsTiaffx"
      },
      "source": [
        "#Display Loss and accoracy metrics"
      ]
    },
    {
      "cell_type": "code",
      "metadata": {
        "colab": {
          "base_uri": "https://localhost:8080/",
          "height": 299
        },
        "id": "DsLBbMUWajpF",
        "outputId": "ed1dc3ef-d419-492a-842f-f9ef8653a949"
      },
      "source": [
        "import matplotlib.pyplot as plt\r\n",
        "N = np.arange(0, 20)\r\n",
        "plt.style.use('ggplot')\r\n",
        "plt.figure()\r\n",
        "plt.plot(np.array(N), np.array(H.history['loss']), label='train_loss')\r\n",
        "plt.plot(N, H.history['val_loss'], label='val_loss')\r\n",
        "plt.plot(N, H.history['accuracy'], label='train_accuracy')\r\n",
        "plt.plot(N, H.history['val_accuracy'], label='val_accuracy')\r\n",
        "plt.title('Training loss and accuracy')\r\n",
        "plt.xlabel('Epoch #')\r\n",
        "plt.ylabel('Loss/Accuracy')\r\n",
        "plt.legend()\r\n",
        "plt.show()"
      ],
      "execution_count": 15,
      "outputs": [
        {
          "output_type": "display_data",
          "data": {
            "image/png": "[encoded data removed]",
            "text/plain": [
              "<Figure size 432x288 with 1 Axes>"
            ]
          },
          "metadata": {
            "tags": []
          }
        }
      ]
    },
    {
      "cell_type": "code",
      "metadata": {
        "colab": {
          "base_uri": "https://localhost:8080/",
          "height": 34
        },
        "id": "e0uS7sENrINm",
        "outputId": "2b02dfe7-cef0-468d-8e16-15844ff8f4bb"
      },
      "source": [
        "plt.savefig('Model statistics.png')"
      ],
      "execution_count": 22,
      "outputs": [
        {
          "output_type": "display_data",
          "data": {
            "text/plain": [
              "<Figure size 432x288 with 0 Axes>"
            ]
          },
          "metadata": {
            "tags": []
          }
        }
      ]
    },
    {
      "cell_type": "markdown",
      "metadata": {
        "id": "Q5pKavAZLCr4"
      },
      "source": [
        "#Saving the weights"
      ]
    },
    {
      "cell_type": "code",
      "metadata": {
        "id": "CaknLlLkLFd0"
      },
      "source": [
        "model.save_weights('vgg_trasfer_learning_weights.h5')"
      ],
      "execution_count": 17,
      "outputs": []
    },
    {
      "cell_type": "markdown",
      "metadata": {
        "id": "G_KkEV-khnzf"
      },
      "source": [
        "#Check Test Accuracy"
      ]
    },
    {
      "cell_type": "code",
      "metadata": {
        "colab": {
          "base_uri": "https://localhost:8080/"
        },
        "id": "R3wqxkRuXLqM",
        "outputId": "2add0abb-4f9c-4ab0-81c2-78e06e66f9c6"
      },
      "source": [
        "score = model.evaluate(pred_generator, batch_size=64)\r\n",
        "print('Test Loss = ', score[0])\r\n",
        "print('Test Accuracy = ', score[1])"
      ],
      "execution_count": 13,
      "outputs": [
        {
          "output_type": "stream",
          "text": [
            "229/229 [==============================] - 32s 140ms/step - loss: 0.3048 - accuracy: 0.9143\n",
            "Test Loss =  0.30481719970703125\n",
            "Test Accuracy =  0.9142583012580872\n"
          ],
          "name": "stdout"
        }
      ]
    },
    {
      "cell_type": "markdown",
      "metadata": {
        "id": "W6QOzKc9hqeG"
      },
      "source": [
        "#Confusion Matrix"
      ]
    },
    {
      "cell_type": "code",
      "metadata": {
        "id": "wgVH-iN1krT5"
      },
      "source": [
        "y_pred = model.predict(pred_generator)\r\n",
        "y_true = pred_generator.classes"
      ],
      "execution_count": 18,
      "outputs": []
    },
    {
      "cell_type": "code",
      "metadata": {
        "id": "TN1nnn9SkVDS"
      },
      "source": [
        "confusion_mtx = confusion_matrix(y_true, np.argmax(y_pred, axis=-1))"
      ],
      "execution_count": 19,
      "outputs": []
    },
    {
      "cell_type": "code",
      "metadata": {
        "colab": {
          "base_uri": "https://localhost:8080/"
        },
        "id": "I30TYfzhmfv0",
        "outputId": "dee3e283-774e-40de-fbdc-3518a079a537"
      },
      "source": [
        "confusion_mtx"
      ],
      "execution_count": 20,
      "outputs": [
        {
          "output_type": "execute_result",
          "data": {
            "text/plain": [
              "array([[1074,    2,    0,    1,    5,   62],\n",
              "       [   3, 1149,    2,    3,    3,    6],\n",
              "       [   3,    4, 1135,  140,   45,    3],\n",
              "       [   4,    5,  107, 1102,   74,    5],\n",
              "       [   5,    4,   25,   33, 1051,   10],\n",
              "       [  61,    3,    4,    1,    3, 1164]])"
            ]
          },
          "metadata": {
            "tags": []
          },
          "execution_count": 20
        }
      ]
    }
  ]
}